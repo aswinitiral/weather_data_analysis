{
 "cells": [
  {
   "cell_type": "markdown",
   "metadata": {},
   "source": [
    "#### Steps to injest a file to s3\n",
    "#### Install AWS CLI -- pip install aws cli\n",
    "#### IAM User Configured\n",
    "#### AWS configure to your machine\n",
    "#### AWS Access Key\n",
    "#### AWS Secret Key\n",
    "#### Current Zone\n",
    "#### Defalult Format\n",
    "#### Install Boto3 -- pip install boto3\n",
    "#### Upload your file to s3 bucket "
   ]
  },
  {
   "cell_type": "markdown",
   "metadata": {},
   "source": [
    "### AWS Automation using Python and Boto3 for file Injestion"
   ]
  },
  {
   "cell_type": "code",
   "execution_count": null,
   "metadata": {},
   "outputs": [],
   "source": [
    "import boto3"
   ]
  },
  {
   "cell_type": "code",
   "execution_count": 2,
   "metadata": {},
   "outputs": [],
   "source": [
    "s3_resource=boto3.client(\"s3\")\n"
   ]
  },
  {
   "cell_type": "code",
   "execution_count": 3,
   "metadata": {},
   "outputs": [],
   "source": [
    "s3_resource.upload_file(\n",
    "    Filename=\"weather_1.csv\",\n",
    "    Bucket=\"my-weather-dataset-s3\",\n",
    "    Key=\"uploadtest.csv\"\n",
    ")"
   ]
  }
 ],
 "metadata": {
  "interpreter": {
   "hash": "a3fde6ed6a6a6e53c38f0d1f2692cb4a5ee306d2c72482d2fc03dcc00c514f48"
  },
  "kernelspec": {
   "display_name": "Python 3.9.7 ('base')",
   "language": "python",
   "name": "python3"
  },
  "language_info": {
   "codemirror_mode": {
    "name": "ipython",
    "version": 3
   },
   "file_extension": ".py",
   "mimetype": "text/x-python",
   "name": "python",
   "nbconvert_exporter": "python",
   "pygments_lexer": "ipython3",
   "version": "3.9.7"
  },
  "orig_nbformat": 4
 },
 "nbformat": 4,
 "nbformat_minor": 2
}
